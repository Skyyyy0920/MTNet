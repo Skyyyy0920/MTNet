{
 "cells": [
  {
   "cell_type": "code",
   "execution_count": 53,
   "id": "f643a90c",
   "metadata": {
    "ExecuteTime": {
     "end_time": "2023-04-18T13:50:16.709128Z",
     "start_time": "2023-04-18T13:50:15.872612Z"
    },
    "pycharm": {
     "name": "#%%\n"
    }
   },
   "outputs": [],
   "source": [
    "import pandas as pd\n",
    "from tqdm import tqdm"
   ]
  },
  {
   "cell_type": "code",
   "execution_count": 54,
   "outputs": [],
   "source": [
    "def process_for_GowallaCA(df):\n",
    "    pd.options.mode.chained_assignment = None\n",
    "    df.insert(loc=2, column='POI_catid', value='')\n",
    "    df.insert(loc=7, column='timezone', value=0)\n",
    "    df.insert(loc=8, column='UTC_time', value='')\n",
    "    df.insert(loc=10, column='day_of_week', value=0)\n",
    "    df = df[df['POI_catname'] != 'dummy']\n",
    "    df.rename(columns={'checkin_time': 'local_time'}, inplace=True)\n",
    "    df['POI_catid'] = df.apply(lambda x: eval(x['POI_catname'].replace(\";\", \",\"))[0]['url'], axis=1)\n",
    "    return df"
   ],
   "metadata": {
    "collapsed": false,
    "pycharm": {
     "name": "#%%\n"
    }
   }
  },
  {
   "cell_type": "code",
   "execution_count": 55,
   "id": "17f71443",
   "metadata": {
    "ExecuteTime": {
     "end_time": "2023-04-18T13:50:18.234568Z",
     "start_time": "2023-04-18T13:50:17.912218Z"
    },
    "pycharm": {
     "name": "#%%\n"
    }
   },
   "outputs": [],
   "source": [
    "dataset = 'Gowalla-CA'\n",
    "df_train = pd.read_csv(rf'./{dataset}/{dataset}_train.csv')\n",
    "df_val = pd.read_csv(rf'./{dataset}/{dataset}_val.csv')\n",
    "df_test = pd.read_csv(rf'./{dataset}/{dataset}_test.csv')\n",
    "if dataset == 'Gowalla-CA':\n",
    "    df_train = process_for_GowallaCA(df_train)\n",
    "    df_val = process_for_GowallaCA(df_val)\n",
    "    df_test = process_for_GowallaCA(df_test)"
   ]
  },
  {
   "cell_type": "code",
   "execution_count": 56,
   "id": "ff072c6f",
   "metadata": {
    "ExecuteTime": {
     "end_time": "2023-04-18T13:50:19.142294Z",
     "start_time": "2023-04-18T13:50:19.095314Z"
    },
    "scrolled": true,
    "pycharm": {
     "name": "#%%\n"
    }
   },
   "outputs": [
    {
     "data": {
      "text/plain": "   user_id  POI_id        POI_catid  POI_catid_code  \\\n0      465    9174  /categories/121              19   \n1      465    9069  /categories/121              19   \n2      465    9175    /categories/1               0   \n3      130    9668  /categories/134              28   \n4      130    9583  /categories/241             130   \n\n                                         POI_catname   latitude   longitude  \\\n0  [{'url': '/categories/121'; 'name': 'Corporate...  37.421059 -122.212952   \n1  [{'url': '/categories/121'; 'name': 'Corporate...  37.444077 -122.163076   \n2  [{'url': '/categories/1'; 'name': 'Coffee Shop'}]  37.444839 -122.161424   \n3  [{'url': '/categories/134'; 'name': 'Universit...  37.723886 -122.479298   \n4        [{'url': '/categories/241'; 'name': 'Bar'}]  37.783045 -122.465136   \n\n   timezone UTC_time                 local_time  day_of_week  \\\n0         0           2009-03-16 21:16:56+00:00            0   \n1         0           2009-03-16 22:01:00+00:00            0   \n2         0           2009-03-16 22:06:05+00:00            0   \n3         0           2009-03-20 02:49:01+00:00            0   \n4         0           2009-03-20 04:24:15+00:00            0   \n\n   norm_in_day_time  norm_day_shift  norm_relative_time trajectory_id  \n0          0.875000               0            0.875000         465_2  \n1          0.916667               0            0.916667         465_2  \n2          0.916667               0            0.916667         465_2  \n3          0.104167               0            0.104167         130_1  \n4          0.166667               0            0.166667         130_1  ",
      "text/html": "<div>\n<style scoped>\n    .dataframe tbody tr th:only-of-type {\n        vertical-align: middle;\n    }\n\n    .dataframe tbody tr th {\n        vertical-align: top;\n    }\n\n    .dataframe thead th {\n        text-align: right;\n    }\n</style>\n<table border=\"1\" class=\"dataframe\">\n  <thead>\n    <tr style=\"text-align: right;\">\n      <th></th>\n      <th>user_id</th>\n      <th>POI_id</th>\n      <th>POI_catid</th>\n      <th>POI_catid_code</th>\n      <th>POI_catname</th>\n      <th>latitude</th>\n      <th>longitude</th>\n      <th>timezone</th>\n      <th>UTC_time</th>\n      <th>local_time</th>\n      <th>day_of_week</th>\n      <th>norm_in_day_time</th>\n      <th>norm_day_shift</th>\n      <th>norm_relative_time</th>\n      <th>trajectory_id</th>\n    </tr>\n  </thead>\n  <tbody>\n    <tr>\n      <th>0</th>\n      <td>465</td>\n      <td>9174</td>\n      <td>/categories/121</td>\n      <td>19</td>\n      <td>[{'url': '/categories/121'; 'name': 'Corporate...</td>\n      <td>37.421059</td>\n      <td>-122.212952</td>\n      <td>0</td>\n      <td></td>\n      <td>2009-03-16 21:16:56+00:00</td>\n      <td>0</td>\n      <td>0.875000</td>\n      <td>0</td>\n      <td>0.875000</td>\n      <td>465_2</td>\n    </tr>\n    <tr>\n      <th>1</th>\n      <td>465</td>\n      <td>9069</td>\n      <td>/categories/121</td>\n      <td>19</td>\n      <td>[{'url': '/categories/121'; 'name': 'Corporate...</td>\n      <td>37.444077</td>\n      <td>-122.163076</td>\n      <td>0</td>\n      <td></td>\n      <td>2009-03-16 22:01:00+00:00</td>\n      <td>0</td>\n      <td>0.916667</td>\n      <td>0</td>\n      <td>0.916667</td>\n      <td>465_2</td>\n    </tr>\n    <tr>\n      <th>2</th>\n      <td>465</td>\n      <td>9175</td>\n      <td>/categories/1</td>\n      <td>0</td>\n      <td>[{'url': '/categories/1'; 'name': 'Coffee Shop'}]</td>\n      <td>37.444839</td>\n      <td>-122.161424</td>\n      <td>0</td>\n      <td></td>\n      <td>2009-03-16 22:06:05+00:00</td>\n      <td>0</td>\n      <td>0.916667</td>\n      <td>0</td>\n      <td>0.916667</td>\n      <td>465_2</td>\n    </tr>\n    <tr>\n      <th>3</th>\n      <td>130</td>\n      <td>9668</td>\n      <td>/categories/134</td>\n      <td>28</td>\n      <td>[{'url': '/categories/134'; 'name': 'Universit...</td>\n      <td>37.723886</td>\n      <td>-122.479298</td>\n      <td>0</td>\n      <td></td>\n      <td>2009-03-20 02:49:01+00:00</td>\n      <td>0</td>\n      <td>0.104167</td>\n      <td>0</td>\n      <td>0.104167</td>\n      <td>130_1</td>\n    </tr>\n    <tr>\n      <th>4</th>\n      <td>130</td>\n      <td>9583</td>\n      <td>/categories/241</td>\n      <td>130</td>\n      <td>[{'url': '/categories/241'; 'name': 'Bar'}]</td>\n      <td>37.783045</td>\n      <td>-122.465136</td>\n      <td>0</td>\n      <td></td>\n      <td>2009-03-20 04:24:15+00:00</td>\n      <td>0</td>\n      <td>0.166667</td>\n      <td>0</td>\n      <td>0.166667</td>\n      <td>130_1</td>\n    </tr>\n  </tbody>\n</table>\n</div>"
     },
     "execution_count": 56,
     "metadata": {},
     "output_type": "execute_result"
    },
    {
     "data": {
      "text/plain": "   user_id  POI_id        POI_catid  POI_catid_code  \\\n0     2283   75441   /categories/64             249   \n1     2828  623513  /categories/119              18   \n2   100174  426270  /categories/363             158   \n3      769  203466   /categories/26             134   \n4      769  202082  /categories/389             174   \n\n                                         POI_catname   latitude   longitude  \\\n0  [{'url': '/categories/64'; 'name': 'Other - Fo...  37.769819 -122.404011   \n1  [{'url': '/categories/119'; 'name': 'Gas & Aut...  34.067476 -117.264376   \n2   [{'url': '/categories/363'; 'name': 'Chipotle'}]  37.775248 -121.977984   \n3  [{'url': '/categories/26'; 'name': 'Ultra-loun...  37.791847 -122.410253   \n4  [{'url': '/categories/389'; 'name': 'InterCont...  37.791659 -122.410612   \n\n   timezone UTC_time                 local_time  day_of_week  \\\n0         0           2010-08-24 19:18:03+00:00            0   \n1         0           2010-08-24 19:19:06+00:00            0   \n2         0           2010-08-24 19:24:58+00:00            0   \n3         0           2010-08-24 19:26:01+00:00            0   \n4         0           2010-08-24 19:27:02+00:00            0   \n\n   norm_in_day_time  norm_day_shift  norm_relative_time trajectory_id  \n0          0.791667              12           12.791667       2283_12  \n1          0.791667               0            0.791667       2828_37  \n2          0.791667               2            2.791667     100174_11  \n3          0.791667               1            1.791667         769_1  \n4          0.791667               1            1.791667         769_1  ",
      "text/html": "<div>\n<style scoped>\n    .dataframe tbody tr th:only-of-type {\n        vertical-align: middle;\n    }\n\n    .dataframe tbody tr th {\n        vertical-align: top;\n    }\n\n    .dataframe thead th {\n        text-align: right;\n    }\n</style>\n<table border=\"1\" class=\"dataframe\">\n  <thead>\n    <tr style=\"text-align: right;\">\n      <th></th>\n      <th>user_id</th>\n      <th>POI_id</th>\n      <th>POI_catid</th>\n      <th>POI_catid_code</th>\n      <th>POI_catname</th>\n      <th>latitude</th>\n      <th>longitude</th>\n      <th>timezone</th>\n      <th>UTC_time</th>\n      <th>local_time</th>\n      <th>day_of_week</th>\n      <th>norm_in_day_time</th>\n      <th>norm_day_shift</th>\n      <th>norm_relative_time</th>\n      <th>trajectory_id</th>\n    </tr>\n  </thead>\n  <tbody>\n    <tr>\n      <th>0</th>\n      <td>2283</td>\n      <td>75441</td>\n      <td>/categories/64</td>\n      <td>249</td>\n      <td>[{'url': '/categories/64'; 'name': 'Other - Fo...</td>\n      <td>37.769819</td>\n      <td>-122.404011</td>\n      <td>0</td>\n      <td></td>\n      <td>2010-08-24 19:18:03+00:00</td>\n      <td>0</td>\n      <td>0.791667</td>\n      <td>12</td>\n      <td>12.791667</td>\n      <td>2283_12</td>\n    </tr>\n    <tr>\n      <th>1</th>\n      <td>2828</td>\n      <td>623513</td>\n      <td>/categories/119</td>\n      <td>18</td>\n      <td>[{'url': '/categories/119'; 'name': 'Gas &amp; Aut...</td>\n      <td>34.067476</td>\n      <td>-117.264376</td>\n      <td>0</td>\n      <td></td>\n      <td>2010-08-24 19:19:06+00:00</td>\n      <td>0</td>\n      <td>0.791667</td>\n      <td>0</td>\n      <td>0.791667</td>\n      <td>2828_37</td>\n    </tr>\n    <tr>\n      <th>2</th>\n      <td>100174</td>\n      <td>426270</td>\n      <td>/categories/363</td>\n      <td>158</td>\n      <td>[{'url': '/categories/363'; 'name': 'Chipotle'}]</td>\n      <td>37.775248</td>\n      <td>-121.977984</td>\n      <td>0</td>\n      <td></td>\n      <td>2010-08-24 19:24:58+00:00</td>\n      <td>0</td>\n      <td>0.791667</td>\n      <td>2</td>\n      <td>2.791667</td>\n      <td>100174_11</td>\n    </tr>\n    <tr>\n      <th>3</th>\n      <td>769</td>\n      <td>203466</td>\n      <td>/categories/26</td>\n      <td>134</td>\n      <td>[{'url': '/categories/26'; 'name': 'Ultra-loun...</td>\n      <td>37.791847</td>\n      <td>-122.410253</td>\n      <td>0</td>\n      <td></td>\n      <td>2010-08-24 19:26:01+00:00</td>\n      <td>0</td>\n      <td>0.791667</td>\n      <td>1</td>\n      <td>1.791667</td>\n      <td>769_1</td>\n    </tr>\n    <tr>\n      <th>4</th>\n      <td>769</td>\n      <td>202082</td>\n      <td>/categories/389</td>\n      <td>174</td>\n      <td>[{'url': '/categories/389'; 'name': 'InterCont...</td>\n      <td>37.791659</td>\n      <td>-122.410612</td>\n      <td>0</td>\n      <td></td>\n      <td>2010-08-24 19:27:02+00:00</td>\n      <td>0</td>\n      <td>0.791667</td>\n      <td>1</td>\n      <td>1.791667</td>\n      <td>769_1</td>\n    </tr>\n  </tbody>\n</table>\n</div>"
     },
     "execution_count": 56,
     "metadata": {},
     "output_type": "execute_result"
    },
    {
     "data": {
      "text/plain": "   user_id   POI_id        POI_catid  POI_catid_code  \\\n0     5604    33189    /categories/1               0   \n1     8670   534376  /categories/121              19   \n2     2262    31518  /categories/164              58   \n3    23161    55249    /categories/1               0   \n4     4547  1529016  /categories/121              19   \n\n                                         POI_catname   latitude   longitude  \\\n0  [{'url': '/categories/1'; 'name': 'Coffee Shop'}]  37.751523 -122.431125   \n1  [{'url': '/categories/121'; 'name': 'Corporate...  33.981997 -118.405752   \n2     [{'url': '/categories/164'; 'name': 'Subway'}]  37.779102 -122.414314   \n3  [{'url': '/categories/1'; 'name': 'Coffee Shop'}]  35.997270 -115.124693   \n4  [{'url': '/categories/121'; 'name': 'Corporate...  33.537095 -117.175707   \n\n   timezone UTC_time                 local_time  day_of_week  \\\n0         0           2010-09-22 14:59:55+00:00            0   \n1         0           2010-09-22 15:00:32+00:00            0   \n2         0           2010-09-22 15:02:33+00:00            0   \n3         0           2010-09-22 15:02:43+00:00            0   \n4         0           2010-09-22 15:05:03+00:00            0   \n\n   norm_in_day_time  norm_day_shift  norm_relative_time trajectory_id  \n0          0.604167               1            1.604167       5604_68  \n1          0.625000               1            1.625000       8670_64  \n2          0.625000               2            2.625000        2262_4  \n3          0.625000               0            0.625000       23161_6  \n4          0.625000              16           16.625000       4547_13  ",
      "text/html": "<div>\n<style scoped>\n    .dataframe tbody tr th:only-of-type {\n        vertical-align: middle;\n    }\n\n    .dataframe tbody tr th {\n        vertical-align: top;\n    }\n\n    .dataframe thead th {\n        text-align: right;\n    }\n</style>\n<table border=\"1\" class=\"dataframe\">\n  <thead>\n    <tr style=\"text-align: right;\">\n      <th></th>\n      <th>user_id</th>\n      <th>POI_id</th>\n      <th>POI_catid</th>\n      <th>POI_catid_code</th>\n      <th>POI_catname</th>\n      <th>latitude</th>\n      <th>longitude</th>\n      <th>timezone</th>\n      <th>UTC_time</th>\n      <th>local_time</th>\n      <th>day_of_week</th>\n      <th>norm_in_day_time</th>\n      <th>norm_day_shift</th>\n      <th>norm_relative_time</th>\n      <th>trajectory_id</th>\n    </tr>\n  </thead>\n  <tbody>\n    <tr>\n      <th>0</th>\n      <td>5604</td>\n      <td>33189</td>\n      <td>/categories/1</td>\n      <td>0</td>\n      <td>[{'url': '/categories/1'; 'name': 'Coffee Shop'}]</td>\n      <td>37.751523</td>\n      <td>-122.431125</td>\n      <td>0</td>\n      <td></td>\n      <td>2010-09-22 14:59:55+00:00</td>\n      <td>0</td>\n      <td>0.604167</td>\n      <td>1</td>\n      <td>1.604167</td>\n      <td>5604_68</td>\n    </tr>\n    <tr>\n      <th>1</th>\n      <td>8670</td>\n      <td>534376</td>\n      <td>/categories/121</td>\n      <td>19</td>\n      <td>[{'url': '/categories/121'; 'name': 'Corporate...</td>\n      <td>33.981997</td>\n      <td>-118.405752</td>\n      <td>0</td>\n      <td></td>\n      <td>2010-09-22 15:00:32+00:00</td>\n      <td>0</td>\n      <td>0.625000</td>\n      <td>1</td>\n      <td>1.625000</td>\n      <td>8670_64</td>\n    </tr>\n    <tr>\n      <th>2</th>\n      <td>2262</td>\n      <td>31518</td>\n      <td>/categories/164</td>\n      <td>58</td>\n      <td>[{'url': '/categories/164'; 'name': 'Subway'}]</td>\n      <td>37.779102</td>\n      <td>-122.414314</td>\n      <td>0</td>\n      <td></td>\n      <td>2010-09-22 15:02:33+00:00</td>\n      <td>0</td>\n      <td>0.625000</td>\n      <td>2</td>\n      <td>2.625000</td>\n      <td>2262_4</td>\n    </tr>\n    <tr>\n      <th>3</th>\n      <td>23161</td>\n      <td>55249</td>\n      <td>/categories/1</td>\n      <td>0</td>\n      <td>[{'url': '/categories/1'; 'name': 'Coffee Shop'}]</td>\n      <td>35.997270</td>\n      <td>-115.124693</td>\n      <td>0</td>\n      <td></td>\n      <td>2010-09-22 15:02:43+00:00</td>\n      <td>0</td>\n      <td>0.625000</td>\n      <td>0</td>\n      <td>0.625000</td>\n      <td>23161_6</td>\n    </tr>\n    <tr>\n      <th>4</th>\n      <td>4547</td>\n      <td>1529016</td>\n      <td>/categories/121</td>\n      <td>19</td>\n      <td>[{'url': '/categories/121'; 'name': 'Corporate...</td>\n      <td>33.537095</td>\n      <td>-117.175707</td>\n      <td>0</td>\n      <td></td>\n      <td>2010-09-22 15:05:03+00:00</td>\n      <td>0</td>\n      <td>0.625000</td>\n      <td>16</td>\n      <td>16.625000</td>\n      <td>4547_13</td>\n    </tr>\n  </tbody>\n</table>\n</div>"
     },
     "execution_count": 56,
     "metadata": {},
     "output_type": "execute_result"
    }
   ],
   "source": [
    "df_train.head()\n",
    "df_val.head()\n",
    "df_test.head()"
   ]
  },
  {
   "cell_type": "code",
   "execution_count": 57,
   "id": "9f4e8305",
   "metadata": {
    "ExecuteTime": {
     "end_time": "2023-04-18T13:50:20.419508Z",
     "start_time": "2023-04-18T13:50:20.326511Z"
    },
    "scrolled": true,
    "pycharm": {
     "name": "#%%\n"
    }
   },
   "outputs": [
    {
     "name": "stdout",
     "output_type": "stream",
     "text": [
      "<class 'pandas.core.frame.DataFrame'>\n",
      "Int64Index: 191116 entries, 0 to 193505\n",
      "Data columns (total 15 columns):\n",
      " #   Column              Non-Null Count   Dtype  \n",
      "---  ------              --------------   -----  \n",
      " 0   user_id             191116 non-null  int64  \n",
      " 1   POI_id              191116 non-null  int64  \n",
      " 2   POI_catid           191116 non-null  object \n",
      " 3   POI_catid_code      191116 non-null  int64  \n",
      " 4   POI_catname         191116 non-null  object \n",
      " 5   latitude            191116 non-null  float64\n",
      " 6   longitude           191116 non-null  float64\n",
      " 7   timezone            191116 non-null  int64  \n",
      " 8   UTC_time            191116 non-null  object \n",
      " 9   local_time          191116 non-null  object \n",
      " 10  day_of_week         191116 non-null  int64  \n",
      " 11  norm_in_day_time    191116 non-null  float64\n",
      " 12  norm_day_shift      191116 non-null  int64  \n",
      " 13  norm_relative_time  191116 non-null  float64\n",
      " 14  trajectory_id       191116 non-null  object \n",
      "dtypes: float64(4), int64(6), object(5)\n",
      "memory usage: 23.3+ MB\n",
      "================================================================\n",
      "<class 'pandas.core.frame.DataFrame'>\n",
      "Int64Index: 23595 entries, 0 to 23943\n",
      "Data columns (total 15 columns):\n",
      " #   Column              Non-Null Count  Dtype  \n",
      "---  ------              --------------  -----  \n",
      " 0   user_id             23595 non-null  int64  \n",
      " 1   POI_id              23595 non-null  int64  \n",
      " 2   POI_catid           23595 non-null  object \n",
      " 3   POI_catid_code      23595 non-null  int64  \n",
      " 4   POI_catname         23595 non-null  object \n",
      " 5   latitude            23595 non-null  float64\n",
      " 6   longitude           23595 non-null  float64\n",
      " 7   timezone            23595 non-null  int64  \n",
      " 8   UTC_time            23595 non-null  object \n",
      " 9   local_time          23595 non-null  object \n",
      " 10  day_of_week         23595 non-null  int64  \n",
      " 11  norm_in_day_time    23595 non-null  float64\n",
      " 12  norm_day_shift      23595 non-null  int64  \n",
      " 13  norm_relative_time  23595 non-null  float64\n",
      " 14  trajectory_id       23595 non-null  object \n",
      "dtypes: float64(4), int64(6), object(5)\n",
      "memory usage: 2.9+ MB\n",
      "================================================================\n",
      "<class 'pandas.core.frame.DataFrame'>\n",
      "Int64Index: 23778 entries, 0 to 24159\n",
      "Data columns (total 15 columns):\n",
      " #   Column              Non-Null Count  Dtype  \n",
      "---  ------              --------------  -----  \n",
      " 0   user_id             23778 non-null  int64  \n",
      " 1   POI_id              23778 non-null  int64  \n",
      " 2   POI_catid           23778 non-null  object \n",
      " 3   POI_catid_code      23778 non-null  int64  \n",
      " 4   POI_catname         23778 non-null  object \n",
      " 5   latitude            23778 non-null  float64\n",
      " 6   longitude           23778 non-null  float64\n",
      " 7   timezone            23778 non-null  int64  \n",
      " 8   UTC_time            23778 non-null  object \n",
      " 9   local_time          23778 non-null  object \n",
      " 10  day_of_week         23778 non-null  int64  \n",
      " 11  norm_in_day_time    23778 non-null  float64\n",
      " 12  norm_day_shift      23778 non-null  int64  \n",
      " 13  norm_relative_time  23778 non-null  float64\n",
      " 14  trajectory_id       23778 non-null  object \n",
      "dtypes: float64(4), int64(6), object(5)\n",
      "memory usage: 2.9+ MB\n"
     ]
    }
   ],
   "source": [
    "df_train.info()\n",
    "print('=' * 64)\n",
    "df_val.info()\n",
    "print('=' * 64)\n",
    "df_test.info()"
   ]
  },
  {
   "cell_type": "code",
   "execution_count": 58,
   "id": "598e0e00",
   "metadata": {
    "ExecuteTime": {
     "end_time": "2023-04-18T13:50:21.376568Z",
     "start_time": "2023-04-18T13:50:21.289661Z"
    },
    "scrolled": true,
    "pycharm": {
     "name": "#%%\n"
    }
   },
   "outputs": [
    {
     "data": {
      "text/plain": "             user_id        POI_id  POI_catid_code       latitude  \\\ncount  191116.000000  1.911160e+05   191116.000000  191116.000000   \nmean    31674.064505  1.998269e+05      127.871759      36.531963   \nstd     44441.157120  2.893039e+05       95.483057       1.727319   \nmin         0.000000  8.947000e+03        0.000000      32.542739   \n25%      3295.000000  3.137000e+04       42.000000      34.189495   \n50%      7661.000000  7.438900e+04      124.000000      37.520942   \n75%     39638.000000  2.380060e+05      210.000000      37.783633   \nmax    195684.000000  2.308824e+06      299.000000      39.730270   \n\n           longitude  timezone  day_of_week  norm_in_day_time  norm_day_shift  \\\ncount  191116.000000  191116.0     191116.0     191116.000000   191116.000000   \nmean     -120.490868       0.0          0.0          0.513635        2.481985   \nstd         2.548450       0.0          0.0          0.349779        5.615900   \nmin      -122.870021       0.0          0.0          0.000000        0.000000   \n25%      -122.404575       0.0          0.0          0.145833        0.000000   \n50%      -122.141348       0.0          0.0          0.666667        1.000000   \n75%      -118.221233       0.0          0.0          0.833333        3.000000   \nmax      -114.036999       0.0          0.0          0.979167      118.000000   \n\n       norm_relative_time  \ncount       191116.000000  \nmean             2.995620  \nstd              5.609453  \nmin              0.000000  \n25%              0.875000  \n50%              1.687500  \n75%              3.000000  \nmax            118.187500  ",
      "text/html": "<div>\n<style scoped>\n    .dataframe tbody tr th:only-of-type {\n        vertical-align: middle;\n    }\n\n    .dataframe tbody tr th {\n        vertical-align: top;\n    }\n\n    .dataframe thead th {\n        text-align: right;\n    }\n</style>\n<table border=\"1\" class=\"dataframe\">\n  <thead>\n    <tr style=\"text-align: right;\">\n      <th></th>\n      <th>user_id</th>\n      <th>POI_id</th>\n      <th>POI_catid_code</th>\n      <th>latitude</th>\n      <th>longitude</th>\n      <th>timezone</th>\n      <th>day_of_week</th>\n      <th>norm_in_day_time</th>\n      <th>norm_day_shift</th>\n      <th>norm_relative_time</th>\n    </tr>\n  </thead>\n  <tbody>\n    <tr>\n      <th>count</th>\n      <td>191116.000000</td>\n      <td>1.911160e+05</td>\n      <td>191116.000000</td>\n      <td>191116.000000</td>\n      <td>191116.000000</td>\n      <td>191116.0</td>\n      <td>191116.0</td>\n      <td>191116.000000</td>\n      <td>191116.000000</td>\n      <td>191116.000000</td>\n    </tr>\n    <tr>\n      <th>mean</th>\n      <td>31674.064505</td>\n      <td>1.998269e+05</td>\n      <td>127.871759</td>\n      <td>36.531963</td>\n      <td>-120.490868</td>\n      <td>0.0</td>\n      <td>0.0</td>\n      <td>0.513635</td>\n      <td>2.481985</td>\n      <td>2.995620</td>\n    </tr>\n    <tr>\n      <th>std</th>\n      <td>44441.157120</td>\n      <td>2.893039e+05</td>\n      <td>95.483057</td>\n      <td>1.727319</td>\n      <td>2.548450</td>\n      <td>0.0</td>\n      <td>0.0</td>\n      <td>0.349779</td>\n      <td>5.615900</td>\n      <td>5.609453</td>\n    </tr>\n    <tr>\n      <th>min</th>\n      <td>0.000000</td>\n      <td>8.947000e+03</td>\n      <td>0.000000</td>\n      <td>32.542739</td>\n      <td>-122.870021</td>\n      <td>0.0</td>\n      <td>0.0</td>\n      <td>0.000000</td>\n      <td>0.000000</td>\n      <td>0.000000</td>\n    </tr>\n    <tr>\n      <th>25%</th>\n      <td>3295.000000</td>\n      <td>3.137000e+04</td>\n      <td>42.000000</td>\n      <td>34.189495</td>\n      <td>-122.404575</td>\n      <td>0.0</td>\n      <td>0.0</td>\n      <td>0.145833</td>\n      <td>0.000000</td>\n      <td>0.875000</td>\n    </tr>\n    <tr>\n      <th>50%</th>\n      <td>7661.000000</td>\n      <td>7.438900e+04</td>\n      <td>124.000000</td>\n      <td>37.520942</td>\n      <td>-122.141348</td>\n      <td>0.0</td>\n      <td>0.0</td>\n      <td>0.666667</td>\n      <td>1.000000</td>\n      <td>1.687500</td>\n    </tr>\n    <tr>\n      <th>75%</th>\n      <td>39638.000000</td>\n      <td>2.380060e+05</td>\n      <td>210.000000</td>\n      <td>37.783633</td>\n      <td>-118.221233</td>\n      <td>0.0</td>\n      <td>0.0</td>\n      <td>0.833333</td>\n      <td>3.000000</td>\n      <td>3.000000</td>\n    </tr>\n    <tr>\n      <th>max</th>\n      <td>195684.000000</td>\n      <td>2.308824e+06</td>\n      <td>299.000000</td>\n      <td>39.730270</td>\n      <td>-114.036999</td>\n      <td>0.0</td>\n      <td>0.0</td>\n      <td>0.979167</td>\n      <td>118.000000</td>\n      <td>118.187500</td>\n    </tr>\n  </tbody>\n</table>\n</div>"
     },
     "execution_count": 58,
     "metadata": {},
     "output_type": "execute_result"
    },
    {
     "data": {
      "text/plain": "             user_id        POI_id  POI_catid_code      latitude  \\\ncount   23595.000000  2.359500e+04    23595.000000  23595.000000   \nmean    36785.689934  3.644789e+05      132.753338     36.230645   \nstd     46950.665763  5.625376e+05       94.803623      1.800742   \nmin         2.000000  8.947000e+03        0.000000     32.542739   \n25%      2521.000000  3.379300e+04       43.000000     34.099084   \n50%     13007.000000  1.144020e+05      131.000000     37.334032   \n75%     49400.000000  4.171810e+05      210.000000     37.775102   \nmax    196561.000000  4.089460e+06      299.000000     39.530235   \n\n          longitude  timezone  day_of_week  norm_in_day_time  norm_day_shift  \\\ncount  23595.000000   23595.0      23595.0      23595.000000    23595.000000   \nmean    -119.969502       0.0          0.0          0.509381        2.614579   \nstd        2.687770       0.0          0.0          0.347300        5.119066   \nmin     -123.208381       0.0          0.0          0.000000        0.000000   \n25%     -122.393900       0.0          0.0          0.125000        0.000000   \n50%     -121.926613       0.0          0.0          0.645833        1.000000   \n75%     -117.910619       0.0          0.0          0.833333        3.000000   \nmax     -114.036999       0.0          0.0          0.979167       66.000000   \n\n       norm_relative_time  \ncount        23595.000000  \nmean             3.123960  \nstd              5.106989  \nmin              0.000000  \n25%              0.875000  \n50%              1.750000  \n75%              3.104167  \nmax             66.062500  ",
      "text/html": "<div>\n<style scoped>\n    .dataframe tbody tr th:only-of-type {\n        vertical-align: middle;\n    }\n\n    .dataframe tbody tr th {\n        vertical-align: top;\n    }\n\n    .dataframe thead th {\n        text-align: right;\n    }\n</style>\n<table border=\"1\" class=\"dataframe\">\n  <thead>\n    <tr style=\"text-align: right;\">\n      <th></th>\n      <th>user_id</th>\n      <th>POI_id</th>\n      <th>POI_catid_code</th>\n      <th>latitude</th>\n      <th>longitude</th>\n      <th>timezone</th>\n      <th>day_of_week</th>\n      <th>norm_in_day_time</th>\n      <th>norm_day_shift</th>\n      <th>norm_relative_time</th>\n    </tr>\n  </thead>\n  <tbody>\n    <tr>\n      <th>count</th>\n      <td>23595.000000</td>\n      <td>2.359500e+04</td>\n      <td>23595.000000</td>\n      <td>23595.000000</td>\n      <td>23595.000000</td>\n      <td>23595.0</td>\n      <td>23595.0</td>\n      <td>23595.000000</td>\n      <td>23595.000000</td>\n      <td>23595.000000</td>\n    </tr>\n    <tr>\n      <th>mean</th>\n      <td>36785.689934</td>\n      <td>3.644789e+05</td>\n      <td>132.753338</td>\n      <td>36.230645</td>\n      <td>-119.969502</td>\n      <td>0.0</td>\n      <td>0.0</td>\n      <td>0.509381</td>\n      <td>2.614579</td>\n      <td>3.123960</td>\n    </tr>\n    <tr>\n      <th>std</th>\n      <td>46950.665763</td>\n      <td>5.625376e+05</td>\n      <td>94.803623</td>\n      <td>1.800742</td>\n      <td>2.687770</td>\n      <td>0.0</td>\n      <td>0.0</td>\n      <td>0.347300</td>\n      <td>5.119066</td>\n      <td>5.106989</td>\n    </tr>\n    <tr>\n      <th>min</th>\n      <td>2.000000</td>\n      <td>8.947000e+03</td>\n      <td>0.000000</td>\n      <td>32.542739</td>\n      <td>-123.208381</td>\n      <td>0.0</td>\n      <td>0.0</td>\n      <td>0.000000</td>\n      <td>0.000000</td>\n      <td>0.000000</td>\n    </tr>\n    <tr>\n      <th>25%</th>\n      <td>2521.000000</td>\n      <td>3.379300e+04</td>\n      <td>43.000000</td>\n      <td>34.099084</td>\n      <td>-122.393900</td>\n      <td>0.0</td>\n      <td>0.0</td>\n      <td>0.125000</td>\n      <td>0.000000</td>\n      <td>0.875000</td>\n    </tr>\n    <tr>\n      <th>50%</th>\n      <td>13007.000000</td>\n      <td>1.144020e+05</td>\n      <td>131.000000</td>\n      <td>37.334032</td>\n      <td>-121.926613</td>\n      <td>0.0</td>\n      <td>0.0</td>\n      <td>0.645833</td>\n      <td>1.000000</td>\n      <td>1.750000</td>\n    </tr>\n    <tr>\n      <th>75%</th>\n      <td>49400.000000</td>\n      <td>4.171810e+05</td>\n      <td>210.000000</td>\n      <td>37.775102</td>\n      <td>-117.910619</td>\n      <td>0.0</td>\n      <td>0.0</td>\n      <td>0.833333</td>\n      <td>3.000000</td>\n      <td>3.104167</td>\n    </tr>\n    <tr>\n      <th>max</th>\n      <td>196561.000000</td>\n      <td>4.089460e+06</td>\n      <td>299.000000</td>\n      <td>39.530235</td>\n      <td>-114.036999</td>\n      <td>0.0</td>\n      <td>0.0</td>\n      <td>0.979167</td>\n      <td>66.000000</td>\n      <td>66.062500</td>\n    </tr>\n  </tbody>\n</table>\n</div>"
     },
     "execution_count": 58,
     "metadata": {},
     "output_type": "execute_result"
    },
    {
     "data": {
      "text/plain": "             user_id        POI_id  POI_catid_code      latitude  \\\ncount   23778.000000  2.377800e+04    23778.000000  23778.000000   \nmean    33209.623139  4.003009e+05      134.833207     36.172132   \nstd     44582.245868  7.251851e+05       96.321165      1.749483   \nmin         2.000000  8.947000e+03        0.000000     32.542739   \n25%      2320.000000  3.347200e+04       43.000000     34.087572   \n50%     11660.000000  1.141630e+05      134.000000     37.304164   \n75%     39493.000000  4.345550e+05      219.000000     37.767117   \nmax    196561.000000  5.562108e+06      299.000000     39.530235   \n\n          longitude  timezone  day_of_week  norm_in_day_time  norm_day_shift  \\\ncount  23778.000000   23778.0      23778.0      23778.000000    23778.000000   \nmean    -119.727316       0.0          0.0          0.516917        2.078224   \nstd        2.767283       0.0          0.0          0.344859        3.878265   \nmin     -123.208381       0.0          0.0          0.000000        0.000000   \n25%     -122.386695       0.0          0.0          0.145833        0.000000   \n50%     -121.591596       0.0          0.0          0.645833        1.000000   \n75%     -117.742551       0.0          0.0          0.812500        2.000000   \nmax     -114.732134       0.0          0.0          0.979167       55.000000   \n\n       norm_relative_time  \ncount        23778.000000  \nmean             2.595140  \nstd              3.869541  \nmin              0.000000  \n25%              0.854167  \n50%              1.645833  \n75%              2.875000  \nmax             55.895833  ",
      "text/html": "<div>\n<style scoped>\n    .dataframe tbody tr th:only-of-type {\n        vertical-align: middle;\n    }\n\n    .dataframe tbody tr th {\n        vertical-align: top;\n    }\n\n    .dataframe thead th {\n        text-align: right;\n    }\n</style>\n<table border=\"1\" class=\"dataframe\">\n  <thead>\n    <tr style=\"text-align: right;\">\n      <th></th>\n      <th>user_id</th>\n      <th>POI_id</th>\n      <th>POI_catid_code</th>\n      <th>latitude</th>\n      <th>longitude</th>\n      <th>timezone</th>\n      <th>day_of_week</th>\n      <th>norm_in_day_time</th>\n      <th>norm_day_shift</th>\n      <th>norm_relative_time</th>\n    </tr>\n  </thead>\n  <tbody>\n    <tr>\n      <th>count</th>\n      <td>23778.000000</td>\n      <td>2.377800e+04</td>\n      <td>23778.000000</td>\n      <td>23778.000000</td>\n      <td>23778.000000</td>\n      <td>23778.0</td>\n      <td>23778.0</td>\n      <td>23778.000000</td>\n      <td>23778.000000</td>\n      <td>23778.000000</td>\n    </tr>\n    <tr>\n      <th>mean</th>\n      <td>33209.623139</td>\n      <td>4.003009e+05</td>\n      <td>134.833207</td>\n      <td>36.172132</td>\n      <td>-119.727316</td>\n      <td>0.0</td>\n      <td>0.0</td>\n      <td>0.516917</td>\n      <td>2.078224</td>\n      <td>2.595140</td>\n    </tr>\n    <tr>\n      <th>std</th>\n      <td>44582.245868</td>\n      <td>7.251851e+05</td>\n      <td>96.321165</td>\n      <td>1.749483</td>\n      <td>2.767283</td>\n      <td>0.0</td>\n      <td>0.0</td>\n      <td>0.344859</td>\n      <td>3.878265</td>\n      <td>3.869541</td>\n    </tr>\n    <tr>\n      <th>min</th>\n      <td>2.000000</td>\n      <td>8.947000e+03</td>\n      <td>0.000000</td>\n      <td>32.542739</td>\n      <td>-123.208381</td>\n      <td>0.0</td>\n      <td>0.0</td>\n      <td>0.000000</td>\n      <td>0.000000</td>\n      <td>0.000000</td>\n    </tr>\n    <tr>\n      <th>25%</th>\n      <td>2320.000000</td>\n      <td>3.347200e+04</td>\n      <td>43.000000</td>\n      <td>34.087572</td>\n      <td>-122.386695</td>\n      <td>0.0</td>\n      <td>0.0</td>\n      <td>0.145833</td>\n      <td>0.000000</td>\n      <td>0.854167</td>\n    </tr>\n    <tr>\n      <th>50%</th>\n      <td>11660.000000</td>\n      <td>1.141630e+05</td>\n      <td>134.000000</td>\n      <td>37.304164</td>\n      <td>-121.591596</td>\n      <td>0.0</td>\n      <td>0.0</td>\n      <td>0.645833</td>\n      <td>1.000000</td>\n      <td>1.645833</td>\n    </tr>\n    <tr>\n      <th>75%</th>\n      <td>39493.000000</td>\n      <td>4.345550e+05</td>\n      <td>219.000000</td>\n      <td>37.767117</td>\n      <td>-117.742551</td>\n      <td>0.0</td>\n      <td>0.0</td>\n      <td>0.812500</td>\n      <td>2.000000</td>\n      <td>2.875000</td>\n    </tr>\n    <tr>\n      <th>max</th>\n      <td>196561.000000</td>\n      <td>5.562108e+06</td>\n      <td>299.000000</td>\n      <td>39.530235</td>\n      <td>-114.732134</td>\n      <td>0.0</td>\n      <td>0.0</td>\n      <td>0.979167</td>\n      <td>55.000000</td>\n      <td>55.895833</td>\n    </tr>\n  </tbody>\n</table>\n</div>"
     },
     "execution_count": 58,
     "metadata": {},
     "output_type": "execute_result"
    }
   ],
   "source": [
    "df_train.describe()\n",
    "df_val.describe()\n",
    "df_test.describe()"
   ]
  },
  {
   "cell_type": "code",
   "execution_count": 59,
   "id": "59ed4441",
   "metadata": {
    "ExecuteTime": {
     "end_time": "2023-04-18T13:50:22.158970Z",
     "start_time": "2023-04-18T13:50:22.149977Z"
    },
    "pycharm": {
     "name": "#%%\n"
    }
   },
   "outputs": [
    {
     "data": {
      "text/plain": "3652"
     },
     "execution_count": 59,
     "metadata": {},
     "output_type": "execute_result"
    }
   ],
   "source": [
    "df_train['user_id'].nunique()"
   ]
  },
  {
   "cell_type": "code",
   "execution_count": 60,
   "id": "c678114b",
   "metadata": {
    "ExecuteTime": {
     "end_time": "2023-04-18T13:50:23.141567Z",
     "start_time": "2023-04-18T13:50:23.087567Z"
    },
    "pycharm": {
     "name": "#%%\n"
    }
   },
   "outputs": [
    {
     "data": {
      "text/plain": "                 0\ncount  3652.000000\nmean     52.331873\nstd     101.075964\nmin       1.000000\n25%      13.000000\n50%      22.000000\n75%      47.000000\nmax    1426.000000",
      "text/html": "<div>\n<style scoped>\n    .dataframe tbody tr th:only-of-type {\n        vertical-align: middle;\n    }\n\n    .dataframe tbody tr th {\n        vertical-align: top;\n    }\n\n    .dataframe thead th {\n        text-align: right;\n    }\n</style>\n<table border=\"1\" class=\"dataframe\">\n  <thead>\n    <tr style=\"text-align: right;\">\n      <th></th>\n      <th>0</th>\n    </tr>\n  </thead>\n  <tbody>\n    <tr>\n      <th>count</th>\n      <td>3652.000000</td>\n    </tr>\n    <tr>\n      <th>mean</th>\n      <td>52.331873</td>\n    </tr>\n    <tr>\n      <th>std</th>\n      <td>101.075964</td>\n    </tr>\n    <tr>\n      <th>min</th>\n      <td>1.000000</td>\n    </tr>\n    <tr>\n      <th>25%</th>\n      <td>13.000000</td>\n    </tr>\n    <tr>\n      <th>50%</th>\n      <td>22.000000</td>\n    </tr>\n    <tr>\n      <th>75%</th>\n      <td>47.000000</td>\n    </tr>\n    <tr>\n      <th>max</th>\n      <td>1426.000000</td>\n    </tr>\n  </tbody>\n</table>\n</div>"
     },
     "execution_count": 60,
     "metadata": {},
     "output_type": "execute_result"
    }
   ],
   "source": [
    "user_checkins = []\n",
    "for index, checkins in df_train.groupby('user_id'):\n",
    "    user_checkins.append(len(checkins))\n",
    "user_checkins = pd.DataFrame(user_checkins)\n",
    "user_checkins.describe()"
   ]
  },
  {
   "cell_type": "code",
   "execution_count": 61,
   "id": "bd0f1878",
   "metadata": {
    "pycharm": {
     "name": "#%%\n"
    }
   },
   "outputs": [],
   "source": [
    "def statistic(data_df):\n",
    "    start_cur_day_diff, cur_next_minute_diff, the_same = [], [], []\n",
    "    data_df = data_df.groupby(['trajectory_id']).filter(lambda x: len(x) > 2)\n",
    "    data_df['local_time'] = pd.to_datetime(data_df['local_time'])  # convert time column to datetime format\n",
    "    data_df = data_df.sort_values(['user_id', 'local_time'])  # sort\n",
    "\n",
    "    for trajectory_id, trajectory in tqdm(data_df.groupby('trajectory_id'), desc=f\"Prepare training dataset\"):\n",
    "        start_date = trajectory.iloc[0]['local_time']\n",
    "\n",
    "        for index in range(len(trajectory) - 1):\n",
    "            _, pid, cid, _, _, _, _, _, _, tim, _, _, _, _, _ = trajectory.iloc[index]\n",
    "            _, next_pid, next_cid, _, _, _, _, _, _, next_tim, _, _, _, _, _ = trajectory.iloc[index + 1]\n",
    "            start_cur_diff = tim - start_date\n",
    "            cur_next_diff = next_tim - tim\n",
    "            start_cur_day_diff.append(start_cur_diff.days)\n",
    "            cur_next_minute_diff.append(cur_next_diff.seconds / 60)\n",
    "            the_same.append(pid == next_pid)\n",
    "\n",
    "    return pd.DataFrame(start_cur_day_diff), pd.DataFrame(cur_next_minute_diff), the_same"
   ]
  },
  {
   "cell_type": "code",
   "execution_count": 62,
   "outputs": [
    {
     "name": "stderr",
     "output_type": "stream",
     "text": [
      "Prepare training dataset: 100%|██████████| 22036/22036 [00:23<00:00, 933.03it/s] \n"
     ]
    }
   ],
   "source": [
    "start_cur_day_diff, cur_next_minute_diff, the_same = statistic(df_train)"
   ],
   "metadata": {
    "collapsed": false,
    "pycharm": {
     "name": "#%%\n"
    }
   }
  },
  {
   "cell_type": "code",
   "execution_count": 63,
   "outputs": [
    {
     "data": {
      "text/plain": "(        0\n 0       0\n 1       0\n 2       0\n 3       0\n 4       0\n ...    ..\n 168596  0\n 168597  0\n 168598  1\n 168599  0\n 168600  0\n \n [168601 rows x 1 columns],\n                   0\n 0        202.533333\n 1         29.416667\n 2        440.583333\n 3        305.150000\n 4        328.000000\n ...             ...\n 168596  1255.233333\n 168597  1336.133333\n 168598  1041.466667\n 168599  1148.416667\n 168600    47.200000\n \n [168601 rows x 1 columns],\n [False,\n  False,\n  False,\n  False,\n  True,\n  False,\n  False,\n  False,\n  False,\n  False,\n  False,\n  False,\n  False,\n  False,\n  False,\n  False,\n  False,\n  False,\n  False,\n  False,\n  False,\n  False,\n  False,\n  False,\n  False,\n  False,\n  False,\n  False,\n  False,\n  True,\n  True,\n  True,\n  True,\n  True,\n  True,\n  True,\n  True,\n  True,\n  True,\n  True,\n  True,\n  True,\n  True,\n  True,\n  True,\n  True,\n  True,\n  True,\n  False,\n  False,\n  False,\n  False,\n  False,\n  False,\n  False,\n  False,\n  False,\n  False,\n  False,\n  False,\n  False,\n  False,\n  False,\n  False,\n  False,\n  False,\n  False,\n  False,\n  False,\n  False,\n  False,\n  False,\n  False,\n  False,\n  False,\n  False,\n  False,\n  False,\n  False,\n  False,\n  False,\n  False,\n  False,\n  False,\n  False,\n  False,\n  False,\n  False,\n  False,\n  False,\n  False,\n  False,\n  False,\n  False,\n  False,\n  False,\n  False,\n  False,\n  False,\n  False,\n  False,\n  False,\n  False,\n  False,\n  False,\n  False,\n  False,\n  False,\n  False,\n  False,\n  False,\n  False,\n  False,\n  False,\n  False,\n  False,\n  False,\n  False,\n  False,\n  False,\n  False,\n  False,\n  False,\n  False,\n  False,\n  True,\n  False,\n  False,\n  False,\n  False,\n  False,\n  False,\n  False,\n  False,\n  False,\n  False,\n  False,\n  False,\n  False,\n  False,\n  False,\n  False,\n  False,\n  False,\n  False,\n  False,\n  False,\n  False,\n  False,\n  False,\n  False,\n  False,\n  False,\n  False,\n  False,\n  False,\n  False,\n  False,\n  False,\n  False,\n  False,\n  False,\n  False,\n  False,\n  False,\n  False,\n  False,\n  False,\n  False,\n  False,\n  False,\n  False,\n  False,\n  False,\n  False,\n  False,\n  False,\n  False,\n  False,\n  False,\n  False,\n  False,\n  False,\n  False,\n  False,\n  False,\n  False,\n  False,\n  False,\n  False,\n  False,\n  False,\n  False,\n  False,\n  False,\n  False,\n  False,\n  False,\n  False,\n  False,\n  False,\n  False,\n  False,\n  False,\n  False,\n  False,\n  False,\n  False,\n  False,\n  False,\n  False,\n  False,\n  False,\n  False,\n  False,\n  False,\n  False,\n  False,\n  False,\n  False,\n  False,\n  False,\n  False,\n  False,\n  False,\n  False,\n  False,\n  False,\n  False,\n  False,\n  False,\n  False,\n  False,\n  False,\n  False,\n  False,\n  False,\n  False,\n  False,\n  False,\n  False,\n  False,\n  False,\n  False,\n  False,\n  False,\n  False,\n  False,\n  False,\n  False,\n  False,\n  False,\n  False,\n  False,\n  False,\n  False,\n  False,\n  False,\n  False,\n  False,\n  False,\n  False,\n  False,\n  False,\n  False,\n  False,\n  False,\n  False,\n  False,\n  False,\n  False,\n  False,\n  False,\n  False,\n  False,\n  False,\n  False,\n  False,\n  False,\n  False,\n  False,\n  False,\n  False,\n  False,\n  False,\n  False,\n  False,\n  False,\n  False,\n  False,\n  False,\n  False,\n  False,\n  False,\n  False,\n  False,\n  False,\n  False,\n  False,\n  False,\n  False,\n  False,\n  False,\n  False,\n  False,\n  False,\n  False,\n  False,\n  False,\n  False,\n  False,\n  False,\n  False,\n  False,\n  False,\n  False,\n  False,\n  False,\n  False,\n  False,\n  False,\n  False,\n  False,\n  False,\n  False,\n  False,\n  False,\n  False,\n  False,\n  False,\n  False,\n  False,\n  False,\n  False,\n  False,\n  False,\n  False,\n  False,\n  False,\n  False,\n  False,\n  False,\n  False,\n  False,\n  False,\n  False,\n  False,\n  False,\n  False,\n  False,\n  False,\n  False,\n  False,\n  False,\n  False,\n  False,\n  False,\n  False,\n  False,\n  False,\n  False,\n  False,\n  False,\n  False,\n  False,\n  False,\n  False,\n  False,\n  False,\n  False,\n  False,\n  False,\n  False,\n  False,\n  False,\n  False,\n  False,\n  False,\n  False,\n  False,\n  False,\n  False,\n  False,\n  False,\n  False,\n  False,\n  False,\n  False,\n  False,\n  False,\n  False,\n  False,\n  False,\n  False,\n  False,\n  False,\n  False,\n  False,\n  False,\n  False,\n  False,\n  False,\n  False,\n  False,\n  False,\n  False,\n  False,\n  False,\n  False,\n  False,\n  False,\n  False,\n  False,\n  False,\n  False,\n  False,\n  False,\n  False,\n  False,\n  False,\n  False,\n  False,\n  False,\n  False,\n  False,\n  False,\n  False,\n  False,\n  False,\n  False,\n  False,\n  False,\n  False,\n  False,\n  False,\n  False,\n  False,\n  False,\n  False,\n  False,\n  False,\n  False,\n  False,\n  False,\n  False,\n  False,\n  False,\n  False,\n  False,\n  False,\n  False,\n  False,\n  False,\n  False,\n  False,\n  False,\n  False,\n  False,\n  False,\n  False,\n  False,\n  False,\n  False,\n  False,\n  False,\n  False,\n  False,\n  False,\n  False,\n  False,\n  False,\n  False,\n  False,\n  False,\n  False,\n  False,\n  False,\n  False,\n  False,\n  False,\n  False,\n  False,\n  False,\n  False,\n  False,\n  False,\n  False,\n  False,\n  False,\n  False,\n  False,\n  False,\n  False,\n  False,\n  False,\n  False,\n  False,\n  False,\n  False,\n  False,\n  False,\n  False,\n  False,\n  False,\n  False,\n  False,\n  False,\n  False,\n  False,\n  False,\n  False,\n  False,\n  False,\n  False,\n  False,\n  False,\n  False,\n  False,\n  False,\n  False,\n  False,\n  False,\n  False,\n  False,\n  False,\n  False,\n  False,\n  False,\n  False,\n  False,\n  False,\n  False,\n  False,\n  False,\n  False,\n  False,\n  False,\n  False,\n  False,\n  False,\n  False,\n  False,\n  False,\n  False,\n  False,\n  False,\n  False,\n  False,\n  False,\n  False,\n  False,\n  False,\n  False,\n  False,\n  False,\n  False,\n  False,\n  False,\n  False,\n  False,\n  False,\n  False,\n  False,\n  False,\n  False,\n  False,\n  False,\n  False,\n  False,\n  False,\n  False,\n  False,\n  False,\n  False,\n  False,\n  False,\n  False,\n  False,\n  False,\n  False,\n  False,\n  False,\n  False,\n  False,\n  False,\n  False,\n  False,\n  False,\n  False,\n  False,\n  False,\n  False,\n  False,\n  False,\n  False,\n  False,\n  False,\n  False,\n  False,\n  False,\n  False,\n  False,\n  False,\n  False,\n  False,\n  False,\n  False,\n  False,\n  False,\n  False,\n  False,\n  False,\n  False,\n  False,\n  False,\n  False,\n  False,\n  False,\n  False,\n  True,\n  False,\n  False,\n  False,\n  False,\n  False,\n  False,\n  False,\n  True,\n  False,\n  False,\n  False,\n  False,\n  False,\n  False,\n  False,\n  False,\n  False,\n  False,\n  True,\n  False,\n  False,\n  False,\n  False,\n  False,\n  False,\n  False,\n  False,\n  False,\n  False,\n  False,\n  False,\n  True,\n  False,\n  False,\n  False,\n  False,\n  False,\n  False,\n  False,\n  False,\n  False,\n  False,\n  True,\n  False,\n  False,\n  False,\n  False,\n  False,\n  False,\n  False,\n  False,\n  False,\n  False,\n  False,\n  False,\n  False,\n  True,\n  True,\n  True,\n  True,\n  False,\n  False,\n  False,\n  False,\n  False,\n  False,\n  False,\n  False,\n  False,\n  False,\n  False,\n  False,\n  False,\n  False,\n  False,\n  False,\n  False,\n  False,\n  False,\n  False,\n  False,\n  False,\n  False,\n  False,\n  False,\n  False,\n  False,\n  False,\n  False,\n  False,\n  False,\n  False,\n  False,\n  False,\n  False,\n  False,\n  False,\n  False,\n  False,\n  True,\n  False,\n  False,\n  False,\n  False,\n  False,\n  False,\n  True,\n  False,\n  False,\n  False,\n  False,\n  False,\n  True,\n  False,\n  False,\n  False,\n  False,\n  False,\n  False,\n  True,\n  False,\n  False,\n  False,\n  False,\n  False,\n  False,\n  True,\n  True,\n  True,\n  True,\n  False,\n  False,\n  False,\n  False,\n  False,\n  False,\n  False,\n  False,\n  True,\n  False,\n  False,\n  False,\n  False,\n  False,\n  False,\n  False,\n  False,\n  False,\n  False,\n  False,\n  False,\n  False,\n  False,\n  False,\n  False,\n  False,\n  False,\n  False,\n  False,\n  False,\n  False,\n  False,\n  False,\n  False,\n  False,\n  False,\n  True,\n  False,\n  False,\n  False,\n  False,\n  False,\n  True,\n  False,\n  False,\n  False,\n  False,\n  False,\n  False,\n  False,\n  False,\n  False,\n  False,\n  False,\n  False,\n  False,\n  False,\n  False,\n  False,\n  False,\n  False,\n  False,\n  False,\n  False,\n  False,\n  False,\n  False,\n  False,\n  False,\n  False,\n  False,\n  False,\n  False,\n  False,\n  False,\n  False,\n  False,\n  False,\n  False,\n  False,\n  False,\n  False,\n  False,\n  False,\n  False,\n  False,\n  False,\n  False,\n  False,\n  False,\n  False,\n  False,\n  False,\n  False,\n  False,\n  False,\n  False,\n  False,\n  False,\n  False,\n  False,\n  False,\n  False,\n  False,\n  False,\n  False,\n  False,\n  False,\n  False,\n  False,\n  False,\n  False,\n  False,\n  False,\n  False,\n  False,\n  False,\n  False,\n  False,\n  False,\n  False,\n  False,\n  False,\n  False,\n  False,\n  False,\n  False,\n  False,\n  False,\n  False,\n  False,\n  False,\n  False,\n  False,\n  False,\n  False,\n  False,\n  False,\n  False,\n  False,\n  False,\n  False,\n  False,\n  False,\n  False,\n  False,\n  False,\n  False,\n  False,\n  False,\n  False,\n  False,\n  False,\n  False,\n  False,\n  False,\n  False,\n  False,\n  False,\n  False,\n  False,\n  False,\n  False,\n  False,\n  False,\n  False,\n  False,\n  False,\n  False,\n  False,\n  False,\n  False,\n  False,\n  False,\n  False,\n  False,\n  False,\n  False,\n  False,\n  False,\n  False,\n  False,\n  False,\n  False,\n  False,\n  False,\n  False,\n  False,\n  False,\n  False,\n  False,\n  False,\n  False,\n  False,\n  False,\n  False,\n  False,\n  False,\n  False,\n  False,\n  False,\n  False,\n  False,\n  False,\n  False,\n  False,\n  False,\n  False,\n  False,\n  False,\n  False,\n  False,\n  False,\n  False,\n  False,\n  False,\n  False,\n  False,\n  False,\n  False,\n  False,\n  False,\n  False,\n  False,\n  False,\n  False,\n  False,\n  False,\n  False,\n  False,\n  False,\n  True,\n  False,\n  False,\n  False,\n  False,\n  False,\n  False,\n  True,\n  False,\n  False,\n  False,\n  False,\n  False,\n  False,\n  False,\n  False,\n  False,\n  False,\n  True,\n  ...])"
     },
     "execution_count": 63,
     "metadata": {},
     "output_type": "execute_result"
    }
   ],
   "source": [
    "start_cur_day_diff, cur_next_minute_diff, the_same"
   ],
   "metadata": {
    "collapsed": false,
    "pycharm": {
     "name": "#%%\n"
    }
   }
  },
  {
   "cell_type": "code",
   "execution_count": 64,
   "outputs": [
    {
     "data": {
      "text/plain": "                   0\ncount  168601.000000\nmean        2.292045\nstd         5.916709\nmin         0.000000\n25%         0.000000\n50%         1.000000\n75%         2.000000\nmax       116.000000",
      "text/html": "<div>\n<style scoped>\n    .dataframe tbody tr th:only-of-type {\n        vertical-align: middle;\n    }\n\n    .dataframe tbody tr th {\n        vertical-align: top;\n    }\n\n    .dataframe thead th {\n        text-align: right;\n    }\n</style>\n<table border=\"1\" class=\"dataframe\">\n  <thead>\n    <tr style=\"text-align: right;\">\n      <th></th>\n      <th>0</th>\n    </tr>\n  </thead>\n  <tbody>\n    <tr>\n      <th>count</th>\n      <td>168601.000000</td>\n    </tr>\n    <tr>\n      <th>mean</th>\n      <td>2.292045</td>\n    </tr>\n    <tr>\n      <th>std</th>\n      <td>5.916709</td>\n    </tr>\n    <tr>\n      <th>min</th>\n      <td>0.000000</td>\n    </tr>\n    <tr>\n      <th>25%</th>\n      <td>0.000000</td>\n    </tr>\n    <tr>\n      <th>50%</th>\n      <td>1.000000</td>\n    </tr>\n    <tr>\n      <th>75%</th>\n      <td>2.000000</td>\n    </tr>\n    <tr>\n      <th>max</th>\n      <td>116.000000</td>\n    </tr>\n  </tbody>\n</table>\n</div>"
     },
     "execution_count": 64,
     "metadata": {},
     "output_type": "execute_result"
    },
    {
     "data": {
      "text/plain": "                   0\ncount  168601.000000\nmean      343.625082\nstd       435.721508\nmin         0.000000\n25%         8.216667\n50%       119.650000\n75%       590.650000\nmax      1439.983333",
      "text/html": "<div>\n<style scoped>\n    .dataframe tbody tr th:only-of-type {\n        vertical-align: middle;\n    }\n\n    .dataframe tbody tr th {\n        vertical-align: top;\n    }\n\n    .dataframe thead th {\n        text-align: right;\n    }\n</style>\n<table border=\"1\" class=\"dataframe\">\n  <thead>\n    <tr style=\"text-align: right;\">\n      <th></th>\n      <th>0</th>\n    </tr>\n  </thead>\n  <tbody>\n    <tr>\n      <th>count</th>\n      <td>168601.000000</td>\n    </tr>\n    <tr>\n      <th>mean</th>\n      <td>343.625082</td>\n    </tr>\n    <tr>\n      <th>std</th>\n      <td>435.721508</td>\n    </tr>\n    <tr>\n      <th>min</th>\n      <td>0.000000</td>\n    </tr>\n    <tr>\n      <th>25%</th>\n      <td>8.216667</td>\n    </tr>\n    <tr>\n      <th>50%</th>\n      <td>119.650000</td>\n    </tr>\n    <tr>\n      <th>75%</th>\n      <td>590.650000</td>\n    </tr>\n    <tr>\n      <th>max</th>\n      <td>1439.983333</td>\n    </tr>\n  </tbody>\n</table>\n</div>"
     },
     "execution_count": 64,
     "metadata": {},
     "output_type": "execute_result"
    }
   ],
   "source": [
    "start_cur_day_diff.describe()\n",
    "cur_next_minute_diff.describe()"
   ],
   "metadata": {
    "collapsed": false,
    "pycharm": {
     "name": "#%%\n"
    }
   }
  },
  {
   "cell_type": "code",
   "execution_count": 65,
   "outputs": [
    {
     "data": {
      "text/plain": "6910"
     },
     "execution_count": 65,
     "metadata": {},
     "output_type": "execute_result"
    },
    {
     "data": {
      "text/plain": "161691"
     },
     "execution_count": 65,
     "metadata": {},
     "output_type": "execute_result"
    }
   ],
   "source": [
    "count = 0\n",
    "for i in the_same:\n",
    "    if i:\n",
    "        count += 1\n",
    "count\n",
    "len(the_same) - count"
   ],
   "metadata": {
    "collapsed": false,
    "pycharm": {
     "name": "#%%\n"
    }
   }
  },
  {
   "cell_type": "code",
   "execution_count": 69,
   "outputs": [
    {
     "data": {
      "text/plain": "27804"
     },
     "execution_count": 69,
     "metadata": {},
     "output_type": "execute_result"
    }
   ],
   "source": [
    "greater_than_3_count = start_cur_day_diff[start_cur_day_diff[0] > 3].shape[0]\n",
    "greater_than_3_count"
   ],
   "metadata": {
    "collapsed": false,
    "pycharm": {
     "name": "#%%\n"
    }
   }
  },
  {
   "cell_type": "code",
   "execution_count": null,
   "outputs": [],
   "source": [],
   "metadata": {
    "collapsed": false,
    "pycharm": {
     "name": "#%%\n"
    }
   }
  }
 ],
 "metadata": {
  "kernelspec": {
   "display_name": "Python 3 (ipykernel)",
   "language": "python",
   "name": "python3"
  },
  "language_info": {
   "codemirror_mode": {
    "name": "ipython",
    "version": 3
   },
   "file_extension": ".py",
   "mimetype": "text/x-python",
   "name": "python",
   "nbconvert_exporter": "python",
   "pygments_lexer": "ipython3",
   "version": "3.9.13"
  },
  "varInspector": {
   "cols": {
    "lenName": 16,
    "lenType": 16,
    "lenVar": 40
   },
   "kernels_config": {
    "python": {
     "delete_cmd_postfix": "",
     "delete_cmd_prefix": "del ",
     "library": "var_list.py",
     "varRefreshCmd": "print(var_dic_list())"
    },
    "r": {
     "delete_cmd_postfix": ") ",
     "delete_cmd_prefix": "rm(",
     "library": "var_list.r",
     "varRefreshCmd": "cat(var_dic_list()) "
    }
   },
   "types_to_exclude": [
    "module",
    "function",
    "builtin_function_or_method",
    "instance",
    "_Feature"
   ],
   "window_display": false
  }
 },
 "nbformat": 4,
 "nbformat_minor": 5
}